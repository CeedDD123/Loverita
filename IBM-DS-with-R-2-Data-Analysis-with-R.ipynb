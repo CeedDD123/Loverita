{
 "cells": [
  {
   "cell_type": "markdown",
   "metadata": {},
   "source": [
    "<center><img src=\"https://cf-courses-data.s3.us.cloud-object-storage.appdomain.cloud/assets/logos/SN_web_lightmode.png\" width=\"300\"></center><br/>\n",
    "\n",
    "# Assignment: Notebook for Peer Assignment\n",
    "\n",
    "Estimated time needed: 60 minutes\n"
   ]
  },
  {
   "cell_type": "markdown",
   "metadata": {},
   "source": [
    "# Assignment Scenario\n",
    "\n",
    "Congratulations! You have just been hired by a US Weather forecast firm as a data scientist.\n",
    "\n",
    "The company is considering the weather condition to help predict the possibility of precipitations, which involves using various local climatological variables, including temperature, wind speed, humidity, dew point, and pressure. The data you will be handling was collected by a NOAA weather station located at the John F. Kennedy International Airport in Queens, New York.\n",
    "\n",
    "Your task is to provide a high level analysis of weather data in JFK Airport. Your stakeholders want to understand the current and historical record of precipitations based on different variables. For now they are mainly interested in a macro-view of JFK Airport Weather, and how it relates to the possibility to rain because it will affect flight delays and etc.\n"
   ]
  },
  {
   "cell_type": "markdown",
   "metadata": {},
   "source": [
    "# Introduction\n",
    "\n",
    "This project relates to the NOAA Weather Dataset - JFK Airport (New York). The original dataset contains 114,546 hourly observations of 12 local climatological variables (such as temperature and wind speed) collected at JFK airport. This dataset can be obtained for free from the IBM Developer [Data Asset Exchange](https://developer.ibm.com/exchanges/data/all/jfk-weather-data/). \n",
    "\n",
    "For this project, you will be using a subset dataset, which contains 5727 rows (about 5% or original rows) and 9 columns. The end goal will be to predict the precipitation using some of the available features. In this project, you will practice reading data files, preprocessing data, creating models, improving models and evaluating them to ultimately choose the best model.\n",
    "\n"
   ]
  },
  {
   "cell_type": "markdown",
   "metadata": {},
   "source": [
    "\n",
    "## Table of Contents:\n",
    "\n",
    "Using this R notebook you will complete **10 tasks**:\n",
    "* [0. Import Modules](#cell0)\n",
    "* [1. Download and Unzip NOAA Weather Dataset](#cell1)\n",
    "* [2. Read Dataset into Project](#cell2)\n",
    "* [3. Select Subset of Columns](#cell3)\n",
    "* [4. Clean Up Columns](#cell4)\n",
    "* [5. Convert Columns to Numerical Types](#cell5)\n",
    "* [6. Rename Columns](#cell6)\n",
    "* [7. Exploratory Data Analysis](#cell7)\n",
    "* [8. Linear Regression](#cell8)\n",
    "* [9. Improve the Model](#cell9)\n",
    "* [10. Find Best Model](#cell10)\n",
    "\n",
    "\n",
    "<a id=\"cell0\"></a>\n",
    "## 0. Import required modules\n",
    "\n",
    "Tidymodels is a collection of packages that use tidyverse principles to easily do the entire modeling process from preprocessing initial data, to creating a model, to tunning hyperparameters. The tidymodels packages can be used to produce high quality statistical and machine learning models. Our Jupyter notebook platforms have a built-in Tidyverse, Tidymodels and rlang packages so we do not need to install these packages prior to loading library. However, if you decide to run this lab on your RStudio Desktop locally on your machine, you can remove the commented lines of code to install these packages before loading.\n",
    " \n"
   ]
  },
  {
   "cell_type": "code",
   "execution_count": null,
   "metadata": {},
   "outputs": [],
   "source": [
    "# Install tidymodels if you haven't done so\n",
    "# install.packages(\"rlang\")\n",
    "# install.packages(\"tidymodels\")"
   ]
  },
  {
   "cell_type": "markdown",
   "metadata": {},
   "source": [
    "**Note: After installing the packages, restart the kernel. Without installing the packages again, load them. Tidyverse and Tidymodels will be the two main packages you will use.**\n"
   ]
  },
  {
   "cell_type": "code",
   "execution_count": null,
   "metadata": {},
   "outputs": [],
   "source": [
    "# Library for modeling\n",
    "library(tidymodels)\n",
    "\n",
    "# Load tidyverse\n",
    "library(tidyverse)"
   ]
  },
  {
   "cell_type": "markdown",
   "metadata": {},
   "source": [
    "\n",
    "### Understand the Dataset\n",
    "\n",
    "The original NOAA JFK dataset contains 114,546 hourly observations of various local climatological variables (including temperature, wind speed, humidity, dew point, and pressure). \n",
    "\n",
    "In this project you will use a sample dataset, which is around 293 KB. [Link to the sample dataset](https://dax-cdn.cdn.appdomain.cloud/dax-noaa-weather-data-jfk-airport/1.1.4/noaa-weather-sample-data.tar.gz).\n",
    "\n",
    "The sample contains 5727 rows (about 5% or original rows) and 9 columns, which are:\n",
    "- DATE\n",
    "- HOURLYDewPointTempF\n",
    "- HOURLYRelativeHumidity\n",
    "- HOURLYDRYBULBTEMPF\n",
    "- HOURLYWETBULBTEMPF\n",
    "- HOURLYPrecip\n",
    "- HOURLYWindSpeed\n",
    "- HOURLYSeaLevelPressure\n",
    "- HOURLYStationPressure\n",
    "\n",
    "The original dataset is much bigger. Feel free to explore the original dataset. [Link to the original dataset.](https://dax-cdn.cdn.appdomain.cloud/dax-noaa-weather-data-jfk-airport/1.1.4/noaa_weather.html) \n",
    "\n",
    "For more information about the dataset, checkout the [preview](https://dax-cdn.cdn.appdomain.cloud/dax-noaa-weather-data-jfk-airport/1.1.4/data-preview/index.html?_ga=2.176781478.281508226.1616293518-1509963377.1616117067&cm_mc_uid=90945889198916153255549&cm_mc_sid_50200000=64650651616293516933) of NOAA Weather - JFK Airport.\n"
   ]
  },
  {
   "cell_type": "markdown",
   "metadata": {},
   "source": [
    "<a id=\"cell1\"></a>\n",
    "\n",
    "## 1. Download NOAA Weather Dataset\n",
    "\n",
    "Use the `download.file()` function to download the sample dataset from the URL below.\n",
    "\n",
    "URL = 'https://dax-cdn.cdn.appdomain.cloud/dax-noaa-weather-data-jfk-airport/1.1.4/noaa-weather-sample-data.tar.gz'\n"
   ]
  },
  {
   "cell_type": "code",
   "execution_count": 8,
   "metadata": {
    "tags": []
   },
   "outputs": [
    {
     "name": "stdout",
     "output_type": "stream",
     "text": [
      "File downloaded successfully at: noaa-weather-sample-data.tar.gz\n"
     ]
    }
   ],
   "source": [
    "import urllib.request\n",
    "\n",
    "# URL where the data is located\n",
    "url = \"https://dax-cdn.cdn.appdomain.cloud/dax-noaa-weather-data-jfk-airport/1.1.4/noaa-weather-sample-data.tar.gz\"\n",
    "\n",
    "# Destination file path\n",
    "destination_file = \"noaa-weather-sample-data.tar.gz\"\n",
    "\n",
    "# Download the file\n",
    "urllib.request.urlretrieve(url, destination_file)\n",
    "\n",
    "# Confirm the download\n",
    "print(f\"File downloaded successfully at: {destination_file}\")\n"
   ]
  },
  {
   "cell_type": "markdown",
   "metadata": {},
   "source": [
    "Untar the zipped file.\n"
   ]
  },
  {
   "cell_type": "code",
   "execution_count": 5,
   "metadata": {
    "tags": []
   },
   "outputs": [
    {
     "name": "stdout",
     "output_type": "stream",
     "text": [
      "File extracted to folder: noaa-weather-data\n"
     ]
    }
   ],
   "source": [
    "import tarfile\n",
    "\n",
    "# Define the tar.gz file and the extraction folder\n",
    "tar_file = \"noaa-weather-sample-data.tar.gz\"\n",
    "extract_folder = \"noaa-weather-data\"\n",
    "\n",
    "# Open and extract the tar.gz file\n",
    "with tarfile.open(tar_file, \"r:gz\") as tar:\n",
    "    tar.extractall(path=extract_folder)\n",
    "\n",
    "# Confirm the extraction\n",
    "print(f\"File extracted to folder: {extract_folder}\")\n"
   ]
  },
  {
   "cell_type": "markdown",
   "metadata": {},
   "source": [
    "<a id=\"cell2\"></a>\n",
    "## 2. Extract and Read into Project\n",
    "We start by reading in the raw dataset. You should specify the file name as \"noaa-weather-sample-data/jfk_weather_sample.csv\".\n"
   ]
  },
  {
   "cell_type": "code",
   "execution_count": 6,
   "metadata": {
    "tags": []
   },
   "outputs": [
    {
     "name": "stdout",
     "output_type": "stream",
     "text": [
      "                   DATE HOURLYDewPointTempF  HOURLYRelativeHumidity  \\\n",
      "0  2015-07-25T13:51:00Z                  60                    46.0   \n",
      "1  2016-11-18T23:51:00Z                  34                    48.0   \n",
      "2  2013-01-06T08:51:00Z                  33                    89.0   \n",
      "3  2011-01-27T16:51:00Z                  18                    48.0   \n",
      "4  2015-01-03T12:16:00Z                  27                    61.0   \n",
      "\n",
      "   HOURLYDRYBULBTEMPF  HOURLYWETBULBTEMPF HOURLYPrecip  HOURLYWindSpeed  \\\n",
      "0                83.0                68.0         0.00             13.0   \n",
      "1                53.0                44.0         0.00              6.0   \n",
      "2                36.0                35.0         0.00             13.0   \n",
      "3                36.0                30.0         0.00             14.0   \n",
      "4                39.0                34.0            T             11.0   \n",
      "\n",
      "   HOURLYSeaLevelPressure  HOURLYStationPressure  \n",
      "0                   30.01                  29.99  \n",
      "1                   30.05                  30.03  \n",
      "2                   30.14                  30.12  \n",
      "3                   29.82                  29.80  \n",
      "4                     NaN                  30.50  \n"
     ]
    }
   ],
   "source": [
    "import pandas as pd\n",
    "\n",
    "# Define the path to the extracted CSV file\n",
    "csv_file_path = \"noaa-weather-data/noaa-weather-sample-data/jfk_weather_sample.csv\"\n",
    "\n",
    "# Read the CSV file into a pandas DataFrame\n",
    "df = pd.read_csv(csv_file_path)\n",
    "\n",
    "# Display the first few rows of the dataset\n",
    "print(df.head())\n"
   ]
  },
  {
   "cell_type": "markdown",
   "metadata": {},
   "source": [
    "Next, display the first few rows of the dataframe.\n"
   ]
  },
  {
   "cell_type": "code",
   "execution_count": null,
   "metadata": {},
   "outputs": [],
   "source": [
    "# Display the first few rows of the dataframe\n",
    "print(df.head())\n"
   ]
  },
  {
   "cell_type": "markdown",
   "metadata": {},
   "source": [
    "Also, take a `glimpse` of the dataset to see the different column data types and make sure it is the correct subset dataset with about 5700 rows and 9 columns.\n"
   ]
  },
  {
   "cell_type": "code",
   "execution_count": 7,
   "metadata": {
    "tags": []
   },
   "outputs": [
    {
     "name": "stdout",
     "output_type": "stream",
     "text": [
      "<class 'pandas.core.frame.DataFrame'>\n",
      "RangeIndex: 5727 entries, 0 to 5726\n",
      "Data columns (total 9 columns):\n",
      " #   Column                  Non-Null Count  Dtype  \n",
      "---  ------                  --------------  -----  \n",
      " 0   DATE                    5727 non-null   object \n",
      " 1   HOURLYDewPointTempF     5576 non-null   object \n",
      " 2   HOURLYRelativeHumidity  5576 non-null   float64\n",
      " 3   HOURLYDRYBULBTEMPF      5576 non-null   float64\n",
      " 4   HOURLYWETBULBTEMPF      5573 non-null   float64\n",
      " 5   HOURLYPrecip            4067 non-null   object \n",
      " 6   HOURLYWindSpeed         5571 non-null   float64\n",
      " 7   HOURLYSeaLevelPressure  4983 non-null   float64\n",
      " 8   HOURLYStationPressure   5569 non-null   float64\n",
      "dtypes: float64(6), object(3)\n",
      "memory usage: 402.8+ KB\n",
      "None\n",
      "Dataset shape: (5727, 9)\n"
     ]
    }
   ],
   "source": [
    "# Display the basic information of the dataframe (e.g., data types, rows, columns)\n",
    "print(df.info())\n",
    "\n",
    "# Display the shape of the dataframe (number of rows and columns)\n",
    "print(f\"Dataset shape: {df.shape}\")\n"
   ]
  },
  {
   "cell_type": "markdown",
   "metadata": {},
   "source": [
    "<a id=\"cell3\"></a>\n",
    "## 3. Select Subset of Columns\n",
    "\n",
    "The end goal of this project will be to predict `HOURLYprecip` (precipitation) using a few other variables. Before you can do this, you first need to preprocess the dataset. Section 3 to section 6 focuses on preprocessing.\n",
    "\n",
    "The first step in preprocessing is to select a subset of data columns and inspect the column types.\n",
    "\n",
    "The key columns that we will explore in this project are:\n",
    "- HOURLYRelativeHumidity\n",
    "- HOURLYDRYBULBTEMPF\n",
    "- HOURLYPrecip\n",
    "- HOURLYWindSpeed\n",
    "- HOURLYStationPressure\n",
    "\n",
    "Data Glossary:\n",
    "- 'HOURLYRelativeHumidity' is the relative humidity given to the nearest whole percentage.\n",
    "- 'HOURLYDRYBULBTEMPF' is the dry-bulb temperature and is commonly used as the standard air temperature reported. It is given here in whole degrees Fahrenheit.\n",
    "- 'HOURLYPrecip' is the amount of precipitation in inches to hundredths over the past hour. For certain automated stations, precipitation will be reported at sub-hourly intervals (e.g. every 15 or 20 minutes) as an accumulated amount of all precipitation within the preceding hour. A “T” indicates a trace amount of precipitation.\n",
    "- 'HOURLYWindSpeed' is the speed of the wind at the time of observation given in miles per hour (mph).\n",
    "- 'HOURLYStationPressure' is the atmospheric pressure observed at the station during the time of observation. Given in inches of Mercury (in Hg).\n",
    "\n",
    "`Select` those five columns and store the modified dataframe as a new variable.\n"
   ]
  },
  {
   "cell_type": "code",
   "execution_count": 8,
   "metadata": {
    "tags": []
   },
   "outputs": [
    {
     "name": "stdout",
     "output_type": "stream",
     "text": [
      "   HOURLYRelativeHumidity  HOURLYDRYBULBTEMPF HOURLYPrecip  HOURLYWindSpeed  \\\n",
      "0                    46.0                83.0         0.00             13.0   \n",
      "1                    48.0                53.0         0.00              6.0   \n",
      "2                    89.0                36.0         0.00             13.0   \n",
      "3                    48.0                36.0         0.00             14.0   \n",
      "4                    61.0                39.0            T             11.0   \n",
      "\n",
      "   HOURLYStationPressure  \n",
      "0                  29.99  \n",
      "1                  30.03  \n",
      "2                  30.12  \n",
      "3                  29.80  \n",
      "4                  30.50  \n",
      "HOURLYRelativeHumidity    float64\n",
      "HOURLYDRYBULBTEMPF        float64\n",
      "HOURLYPrecip               object\n",
      "HOURLYWindSpeed           float64\n",
      "HOURLYStationPressure     float64\n",
      "dtype: object\n"
     ]
    }
   ],
   "source": [
    "# Select the relevant columns from the dataframe\n",
    "selected_columns = [\n",
    "    'HOURLYRelativeHumidity', \n",
    "    'HOURLYDRYBULBTEMPF', \n",
    "    'HOURLYPrecip', \n",
    "    'HOURLYWindSpeed', \n",
    "    'HOURLYStationPressure'\n",
    "]\n",
    "\n",
    "# Create a new dataframe with the selected columns\n",
    "df_subset = df[selected_columns]\n",
    "\n",
    "# Display the first few rows of the new dataframe\n",
    "print(df_subset.head())\n",
    "\n",
    "# Display the column data types\n",
    "print(df_subset.dtypes)\n",
    "\n"
   ]
  },
  {
   "cell_type": "markdown",
   "metadata": {},
   "source": [
    "Show the first 10 rows of this new dataframe.\n"
   ]
  },
  {
   "cell_type": "code",
   "execution_count": 9,
   "metadata": {
    "tags": []
   },
   "outputs": [
    {
     "name": "stdout",
     "output_type": "stream",
     "text": [
      "   HOURLYRelativeHumidity  HOURLYDRYBULBTEMPF HOURLYPrecip  HOURLYWindSpeed  \\\n",
      "0                    46.0                83.0         0.00             13.0   \n",
      "1                    48.0                53.0         0.00              6.0   \n",
      "2                    89.0                36.0         0.00             13.0   \n",
      "3                    48.0                36.0         0.00             14.0   \n",
      "4                    61.0                39.0            T             11.0   \n",
      "5                    79.0                41.0         0.00              6.0   \n",
      "6                    51.0                19.0         0.00              0.0   \n",
      "7                    65.0                24.0         0.00             11.0   \n",
      "8                    90.0                54.0         0.06             11.0   \n",
      "9                    94.0                73.0          NaN              5.0   \n",
      "\n",
      "   HOURLYStationPressure  \n",
      "0                  29.99  \n",
      "1                  30.03  \n",
      "2                  30.12  \n",
      "3                  29.80  \n",
      "4                  30.50  \n",
      "5                  29.92  \n",
      "6                  30.40  \n",
      "7                  30.35  \n",
      "8                  30.03  \n",
      "9                  29.91  \n"
     ]
    }
   ],
   "source": [
    "# Display the first 10 rows of the new dataframe\n",
    "print(df_subset.head(10))\n"
   ]
  },
  {
   "cell_type": "markdown",
   "metadata": {},
   "source": [
    "<a id=\"cell4\"></a>\n",
    "## 4. Clean Up Columns\n",
    "\n",
    "From the dataframe preview above, we can see that the column `HOURLYPrecip` - which is the hourly measure of precipitation levels - contains both `NA` and `T` values. `T` specifies *trace amounts of precipitation* (meaning essentially no precipitation), while `NA` means *not available*, and is used to denote missing values. Additionally, some values also have \"s\" at the end of them, indicating that the precipitation was snow. \n",
    "\n",
    "Inspect the unique values present in the column `HOURLYPrecip` (with `unique(dataframe$column)`) to see these values.\n"
   ]
  },
  {
   "cell_type": "code",
   "execution_count": 10,
   "metadata": {
    "tags": []
   },
   "outputs": [
    {
     "name": "stdout",
     "output_type": "stream",
     "text": [
      "['0.00' 'T' '0.06' nan '0.03' '0.02' '0.08' '0.01' '0.07' '0.16' '0.09'\n",
      " '0.22' '0.02s' '0.24' '0.18' '0.05' '0.04' '0.09s' '0.11' '0.14' '0.25'\n",
      " '0.10' '0.01s' '0.58' '0.12' '0.13' '0.46' '1.07' '1.19' '0.34' '0.20'\n",
      " '0.36s' '0.42' '0.17' '0.27' '0.35' '0.31' '0.33' '0.23' '0.26' '0.28'\n",
      " '0.75' '0.19' '0.36' '0.03s' '0.07s' '0.54' '0.59' '0.21']\n"
     ]
    }
   ],
   "source": [
    "# Display unique values in the 'HOURLYPrecip' column\n",
    "unique_precip_values = df_subset['HOURLYPrecip'].unique()\n",
    "\n",
    "# Print the unique values\n",
    "print(unique_precip_values)\n"
   ]
  },
  {
   "cell_type": "markdown",
   "metadata": {},
   "source": [
    "Having characters in values (like the \"T\" and \"s\" that you see in the unique values) will cause problems when you create a model because values for precipitation should be numerical. So you need to fix these values that have characters. \n",
    "\n",
    "Now, for the column `HOURLYPrecip`:\n",
    "1. Replace all the `T` values with \"0.0\" and \n",
    "2. Remove \"s\" from values like \"0.02s\". In R, you can use the method `str_remove(column, pattern = \"s$\")` to remove the character \"s\" from the end of values. The \"$\" tells R to match to the end of values. The `pattern` is a regex pattern. Look at [here](https://www.rdocumentation.org/packages/stringi/versions/1.5.3/topics/about_search_regex) for more information about regex and matching to strings in R.\n",
    "\n",
    "Remember that you can use `tidyverse`'s  `mutate()` to update columns.\n",
    "\n",
    "You can check your work by checking if unique values of `HOURLYPrecip` still contain any `T` or `s`. Store the modified dataframe as a new variable.\n"
   ]
  },
  {
   "cell_type": "code",
   "execution_count": 14,
   "metadata": {
    "tags": []
   },
   "outputs": [
    {
     "name": "stdout",
     "output_type": "stream",
     "text": [
      "[0.   0.06  nan 0.03 0.02 0.08 0.01 0.07 0.16 0.09 0.22 0.24 0.18 0.05\n",
      " 0.04 0.11 0.14 0.25 0.1  0.58 0.12 0.13 0.46 1.07 1.19 0.34 0.2  0.36\n",
      " 0.42 0.17 0.27 0.35 0.31 0.33 0.23 0.26 0.28 0.75 0.19 0.54 0.59 0.21]\n"
     ]
    }
   ],
   "source": [
    "# Create a copy of the dataframe to avoid the warning\n",
    "df_subset_copy = df_subset.copy()\n",
    "\n",
    "# Convert 'HOURLYPrecip' to strings before replacing 'T' with '0.0'\n",
    "df_subset_copy['HOURLYPrecip'] = df_subset_copy['HOURLYPrecip'].astype(str)\n",
    "\n",
    "# Replace 'T' with '0.0' in the 'HOURLYPrecip' column\n",
    "df_subset_copy.loc[:, 'HOURLYPrecip'] = df_subset_copy['HOURLYPrecip'].replace('T', '0.0')\n",
    "\n",
    "# Remove 's' from values like '0.02s' using str.replace()\n",
    "df_subset_copy.loc[:, 'HOURLYPrecip'] = df_subset_copy['HOURLYPrecip'].str.replace('s$', '', regex=True)\n",
    "\n",
    "# Convert 'HOURLYPrecip' back to numeric (since it is currently a string)\n",
    "df_subset_copy.loc[:, 'HOURLYPrecip'] = pd.to_numeric(df_subset_copy['HOURLYPrecip'], errors='coerce')\n",
    "\n",
    "# Display unique values of 'HOURLYPrecip' to verify the changes\n",
    "unique_precip_values_after = df_subset_copy['HOURLYPrecip'].unique()\n",
    "print(unique_precip_values_after)\n"
   ]
  },
  {
   "cell_type": "markdown",
   "metadata": {},
   "source": [
    "<a id=\"cell5\"></a>\n",
    "## 5. Convert Columns to Numerical Types\n",
    "Now that you have removed the characters in the `HOURLYPrecip` column, you can safely covert the column to a numeric type.\n",
    "\n",
    "First, check the types of the columns. You will notice that all are `dbl` (double or numeric) except for `HOURLYPrecip`, which is `chr` (character or string). Use the `glimpse` function from Tidyverse.\n"
   ]
  },
  {
   "cell_type": "code",
   "execution_count": 15,
   "metadata": {
    "tags": []
   },
   "outputs": [
    {
     "name": "stdout",
     "output_type": "stream",
     "text": [
      "[0.   0.06  nan 0.03 0.02 0.08 0.01 0.07 0.16 0.09 0.22 0.24 0.18 0.05\n",
      " 0.04 0.11 0.14 0.25 0.1  0.58 0.12 0.13 0.46 1.07 1.19 0.34 0.2  0.36\n",
      " 0.42 0.17 0.27 0.35 0.31 0.33 0.23 0.26 0.28 0.75 0.19 0.54 0.59 0.21]\n"
     ]
    }
   ],
   "source": [
    "# Create a copy of the dataframe to avoid the warning\n",
    "df_subset_copy = df_subset.copy()\n",
    "\n",
    "# Convert 'HOURLYPrecip' to strings before replacing 'T' with '0.0'\n",
    "df_subset_copy['HOURLYPrecip'] = df_subset_copy['HOURLYPrecip'].astype(str)\n",
    "\n",
    "# Replace 'T' with '0.0' in the 'HOURLYPrecip' column\n",
    "df_subset_copy.loc[:, 'HOURLYPrecip'] = df_subset_copy['HOURLYPrecip'].replace('T', '0.0')\n",
    "\n",
    "# Remove 's' from values like '0.02s' using str.replace()\n",
    "df_subset_copy.loc[:, 'HOURLYPrecip'] = df_subset_copy['HOURLYPrecip'].str.replace('s$', '', regex=True)\n",
    "\n",
    "# Convert 'HOURLYPrecip' back to numeric (since it is currently a string)\n",
    "df_subset_copy.loc[:, 'HOURLYPrecip'] = pd.to_numeric(df_subset_copy['HOURLYPrecip'], errors='coerce')\n",
    "\n",
    "# Display unique values of 'HOURLYPrecip' to verify the changes\n",
    "unique_precip_values_after = df_subset_copy['HOURLYPrecip'].unique()\n",
    "print(unique_precip_values_after)\n"
   ]
  },
  {
   "cell_type": "markdown",
   "metadata": {},
   "source": [
    "Convert `HOURLYPrecip` to the `numeric` type and store the cleaned dataframe as a new variable.\n"
   ]
  },
  {
   "cell_type": "code",
   "execution_count": 18,
   "metadata": {
    "tags": []
   },
   "outputs": [],
   "source": [
    "# Convert 'HOURLYPrecip' to numeric (non-numeric values will become NaN)\n",
    "df_cleaned = df_subset_copy.copy()\n",
    "df_cleaned['HOURLYPrecip'] = pd.to_numeric(df_cleaned['HOURLYPrecip'], errors='coerce')\n",
    "\n",
    "# Verify the changes\n",
    "\n"
   ]
  },
  {
   "cell_type": "markdown",
   "metadata": {},
   "source": [
    "We can now see that all fields have numerical data type.\n"
   ]
  },
  {
   "cell_type": "code",
   "execution_count": 17,
   "metadata": {
    "tags": []
   },
   "outputs": [
    {
     "data": {
      "text/plain": [
       "HOURLYRelativeHumidity    float64\n",
       "HOURLYDRYBULBTEMPF        float64\n",
       "HOURLYPrecip              float64\n",
       "HOURLYWindSpeed           float64\n",
       "HOURLYStationPressure     float64\n",
       "dtype: object"
      ]
     },
     "execution_count": 17,
     "metadata": {},
     "output_type": "execute_result"
    }
   ],
   "source": [
    "df_cleaned.dtypes"
   ]
  },
  {
   "cell_type": "markdown",
   "metadata": {
    "tags": []
   },
   "source": [
    "<a id=\"cell6\"></a>\n",
    "## 6. Rename Columns\n",
    "Let's rename the following columns as:\n",
    "- 'HOURLYRelativeHumidity' to 'relative_humidity'\n",
    "- 'HOURLYDRYBULBTEMPF' to 'dry_bulb_temp_f'\n",
    "- 'HOURLYPrecip' to 'precip'\n",
    "- 'HOURLYWindSpeed' to 'wind_speed'\n",
    "- 'HOURLYStationPressure' to 'station_pressure'\n",
    "\n",
    "You can use `dplyr::rename()`. Then, store the final dataframe as a new variable.\n"
   ]
  },
  {
   "cell_type": "code",
   "execution_count": 19,
   "metadata": {
    "tags": []
   },
   "outputs": [
    {
     "data": {
      "text/plain": [
       "Index(['relative_humidity', 'dry_bulb_temp_f', 'precip', 'wind_speed',\n",
       "       'station_pressure'],\n",
       "      dtype='object')"
      ]
     },
     "execution_count": 19,
     "metadata": {},
     "output_type": "execute_result"
    }
   ],
   "source": [
    "# Rename columns using a dictionary for mapping old names to new names\n",
    "df_final = df_cleaned.rename(columns={\n",
    "    'HOURLYRelativeHumidity': 'relative_humidity',\n",
    "    'HOURLYDRYBULBTEMPF': 'dry_bulb_temp_f',\n",
    "    'HOURLYPrecip': 'precip',\n",
    "    'HOURLYWindSpeed': 'wind_speed',\n",
    "    'HOURLYStationPressure': 'station_pressure'\n",
    "})\n",
    "\n",
    "# Verify the column names after renaming\n",
    "df_final.columns\n"
   ]
  },
  {
   "cell_type": "markdown",
   "metadata": {},
   "source": [
    "<a id=\"cell7\"></a>\n",
    "## 7. Exploratory Data Analysis\n",
    "Now that you have finished preprocessing the dataset, you can can start exploring the columns more.\n",
    "\n",
    "First, split the data into a training and testing set. Splitting a dataset is done randomly, so to have reproducible results set the seed = 1234. Also, use 80% of the data for training.\n"
   ]
  },
  {
   "cell_type": "code",
   "execution_count": 23,
   "metadata": {
    "tags": []
   },
   "outputs": [
    {
     "data": {
      "text/plain": [
       "((4581, 5), (1146, 5))"
      ]
     },
     "execution_count": 23,
     "metadata": {},
     "output_type": "execute_result"
    }
   ],
   "source": [
    "from sklearn.model_selection import train_test_split\n",
    "\n",
    "# Split the data into training (80%) and testing (20%) sets\n",
    "train_data, test_data = train_test_split(df_final, test_size=0.2, random_state=1234)\n",
    "\n",
    "# Check the size of the training and testing sets\n",
    "train_data.shape, test_data.shape\n",
    "\n"
   ]
  },
  {
   "cell_type": "markdown",
   "metadata": {},
   "source": [
    "Next, looking at just the **training set**, plot histograms or box plots of the variables (`relative_humidity`, `dry_bulb_temp_f`, `precip`, `wind_speed`,  `station_pressure`) for an intial look of their distributions using `tidyverse`'s `ggplot`. Leave the testing set as is because it is good practice to not see the testing set until evaluating the final model.\n"
   ]
  },
  {
   "cell_type": "code",
   "execution_count": 29,
   "metadata": {
    "tags": []
   },
   "outputs": [
    {
     "data": {
      "image/png": "[encoded data removed]",
      "text/plain": [
       "<Figure size 1200x800 with 5 Axes>"
      ]
     },
     "metadata": {},
     "output_type": "display_data"
    }
   ],
   "source": [
    "import seaborn as sns\n",
    "import matplotlib.pyplot as plt\n",
    "\n",
    "# List of variables for plotting\n",
    "variables = ['relative_humidity', 'dry_bulb_temp_f', 'precip', 'wind_speed', 'station_pressure']\n",
    "\n",
    "# Plotting histograms\n",
    "plt.figure(figsize=(12, 8))\n",
    "for i, var in enumerate(variables, 1):\n",
    "    plt.subplot(2, 3, i)\n",
    "    sns.distplot(train_data[var], kde=True, bins=30)  # Use distplot instead of histplot\n",
    "    plt.title(f'Histogram of {var}')\n",
    "    plt.xlabel(var)\n",
    "    plt.ylabel('Frequency')\n",
    "\n",
    "plt.tight_layout()\n",
    "plt.show()\n"
   ]
  },
  {
   "cell_type": "markdown",
   "metadata": {},
   "source": [
    "<a id=\"cell8\"></a>\n",
    "## 8. Linear Regression \n",
    "After exploring the dataset more, you are now ready to start creating models to predict the precipitation (`precip`).\n",
    "\n",
    "Create simple linear regression models where `precip` is the response variable and each of `relative_humidity`, `dry_bulb_temp_f`,`wind_speed` or `station_pressure` will be a predictor variable, e.g. `precip ~ relative_humidity`, `precip ~ dry_bulb_temp_f`, etc. for a total of four simple models. \n",
    "Additionally, visualize each simple model with a scatter plot.\n"
   ]
  },
  {
   "cell_type": "code",
   "execution_count": null,
   "metadata": {},
   "outputs": [],
   "source": [
    "import statsmodels.api as sm\n",
    "import seaborn as sns\n",
    "import matplotlib.pyplot as plt\n"
   ]
  },
  {
   "cell_type": "code",
   "execution_count": null,
   "metadata": {},
   "outputs": [],
   "source": [
    "# List of predictor variables\n",
    "predictors = ['relative_humidity', 'dry_bulb_temp_f', 'wind_speed', 'station_pressure']\n",
    "\n",
    "# Create a figure for scatter plots\n",
    "plt.figure(figsize=(12, 10))\n"
   ]
  },
  {
   "cell_type": "code",
   "execution_count": null,
   "metadata": {},
   "outputs": [],
   "source": [
    "# Loop through predictors to create models and plots\n",
    "for i, predictor in enumerate(predictors, 1):\n",
    "    # Define the independent variable (X) and dependent variable (Y)\n",
    "    X = train_data[predictor]\n",
    "    Y = train_data['precip']\n",
    "    \n",
    "    # Add a constant to the predictor variable for the intercept\n",
    "    X = sm.add_constant(X)\n",
    "    \n",
    "    # Fit the linear regression model\n",
    "    model = sm.OLS(Y, X).fit()\n",
    "\n",
    "    # Print the summary of the model\n",
    "    print(f\"Model for precip ~ {predictor}:\\n\")\n",
    "    print(model.summary())\n",
    "    print(\"-\" * 80)\n",
    "\n",
    "    # Plot the scatter plot with regression line\n",
    "    plt.subplot(2, 3, i)\n",
    "    sns.regplot(x=predictor, y='precip', data=train_data, line_kws={'color': 'red'})\n",
    "    plt.title(f'Scatter plot of precip ~ {predictor}')\n",
    "    plt.xlabel(predictor)\n",
    "    plt.ylabel('precip')"
   ]
  },
  {
   "cell_type": "code",
   "execution_count": null,
   "metadata": {
    "tags": []
   },
   "outputs": [],
   "source": [
    "plt.tight_layout()\n",
    "plt.show()\n"
   ]
  },
  {
   "cell_type": "markdown",
   "metadata": {},
   "source": [
    "<a id=\"cell9\"></a>\n",
    "## 9. Improve the Model\n",
    "Now, try improving the simple models you created in the previous section. \n",
    "\n",
    "Create at least two more models, each model should use at least one of the different techniques:\n",
    "1. Add more features/predictors\n",
    "2. Add regularization (L1, L2 or a mix)\n",
    "3. Add a polynomial component\n",
    "\n",
    "Also, for each of the models you create, check the model performance using the **training set** and a metric like MSE, RMSE, or R-squared.\n",
    "\n",
    "Consider using `tidymodels` if you choose to add regularization and tune lambda.\n"
   ]
  },
  {
   "cell_type": "code",
   "execution_count": 6,
   "metadata": {
    "tags": []
   },
   "outputs": [
    {
     "ename": "SyntaxError",
     "evalue": "invalid syntax (2157732440.py, line 2)",
     "output_type": "error",
     "traceback": [
      "\u001b[0;36m  File \u001b[0;32m\"/tmp/ipykernel_68/2157732440.py\"\u001b[0;36m, line \u001b[0;32m2\u001b[0m\n\u001b[0;31m    train_fit5 <- lm_spec %>%\u001b[0m\n\u001b[0m                           ^\u001b[0m\n\u001b[0;31mSyntaxError\u001b[0m\u001b[0;31m:\u001b[0m invalid syntax\n"
     ]
    }
   ],
   "source": [
    "#Multiple Linear Regression \n",
    "train_fit5 <- lm_spec %>% \n",
    "    fit(precip ~ ., data = train_data)\n",
    "train_fit5"
   ]
  },
  {
   "cell_type": "markdown",
   "metadata": {},
   "source": [
    "<a id=\"cell10\"></a>\n",
    "## 10. Find Best Model\n",
    "Compare the regression metrics of each model from section 9 to find the best model overall. To do this, \n",
    "\n",
    "1. Evaluate the models on the **testing set** using at least one metric (like MSE, RMSE or R-squared).\n",
    "2. After calculating the metrics on the testing set for each model, print them out in as a table to easily compare. You can use something like:\n",
    "```\n",
    "model_names <- c(\"model_1\", \"model_2\", \"model_3\")\n",
    "train_error <- c(\"model_1_value\", \"model_2_value\", \"model_3_value\")\n",
    "test_error <- c(\"model_1_value\", \"model_2_value\", \"model_3_value\")\n",
    "comparison_df <- data.frame(model_names, train_error, test_error)\n",
    "```\n",
    "3. Finally, from the comparison table you create, conclude which model performed the best.\n"
   ]
  },
  {
   "cell_type": "code",
   "execution_count": 47,
   "metadata": {
    "tags": []
   },
   "outputs": [
    {
     "name": "stdout",
     "output_type": "stream",
     "text": [
      "               Model  Train MSE  Test MSE  Train RMSE  Test RMSE  Train R2  \\\n",
      "0  Linear Regression   0.006429  0.003265    0.080178   0.057143  0.996985   \n",
      "1      Random Forest   0.227125  0.184900    0.476576   0.430000  0.893462   \n",
      "2                SVR   0.543367  1.438222    0.737134   1.199259  0.745122   \n",
      "\n",
      "   Test R2  \n",
      "0      0.0  \n",
      "1      0.0  \n",
      "2      0.0  \n",
      "\n",
      "Best Model: Linear Regression with Test RMSE: 0.057142857142857384\n"
     ]
    }
   ],
   "source": [
    "import pandas as pd\n",
    "from sklearn.metrics import mean_squared_error, r2_score\n",
    "import numpy as np\n",
    "\n",
    "\n",
    "from sklearn.linear_model import LinearRegression\n",
    "from sklearn.ensemble import RandomForestRegressor\n",
    "from sklearn.svm import SVR\n",
    "\n",
    "# Example of training three models\n",
    "model_1 = LinearRegression().fit(X_train, y_train)  # Linear Regression Model\n",
    "model_2 = RandomForestRegressor().fit(X_train, y_train)  # Random Forest Model\n",
    "model_3 = SVR().fit(X_train, y_train)  # Support Vector Regression Model\n",
    "\n",
    "models = [model_1, model_2, model_3]\n",
    "model_names = [\"Linear Regression\", \"Random Forest\", \"SVR\"]\n",
    "\n",
    "# Initialize lists to store metrics\n",
    "train_mse = []\n",
    "test_mse = []\n",
    "train_rmse = []\n",
    "test_rmse = []\n",
    "train_r2 = []\n",
    "test_r2 = []\n",
    "\n",
    "# Loop through each model and calculate metrics\n",
    "for model in models:\n",
    "    # Predictions on training and testing sets\n",
    "    train_pred = model.predict(X_train)\n",
    "    test_pred = model.predict(X_test)\n",
    "    \n",
    "    # Compute metrics\n",
    "    train_mse.append(mean_squared_error(y_train, train_pred))\n",
    "    test_mse.append(mean_squared_error(y_test, test_pred))\n",
    "    train_rmse.append(np.sqrt(mean_squared_error(y_train, train_pred)))\n",
    "    test_rmse.append(np.sqrt(mean_squared_error(y_test, test_pred)))\n",
    "    train_r2.append(r2_score(y_train, train_pred))\n",
    "    test_r2.append(r2_score(y_test, test_pred))\n",
    "\n",
    "# Create a DataFrame for comparison\n",
    "comparison_df = pd.DataFrame({\n",
    "    \"Model\": model_names,\n",
    "    \"Train MSE\": train_mse,\n",
    "    \"Test MSE\": test_mse,\n",
    "    \"Train RMSE\": train_rmse,\n",
    "    \"Test RMSE\": test_rmse,\n",
    "    \"Train R2\": train_r2,\n",
    "    \"Test R2\": test_r2\n",
    "})\n",
    "\n",
    "# Display the comparison table\n",
    "print(comparison_df)\n",
    "\n",
    "# Identify the best model based on the chosen metric (e.g., lowest Test RMSE)\n",
    "best_model_index = comparison_df[\"Test RMSE\"].idxmin()\n",
    "best_model = models[best_model_index]\n",
    "print(f\"\\nBest Model: {comparison_df.loc[best_model_index, 'Model']} with Test RMSE: {comparison_df.loc[best_model_index, 'Test RMSE']}\")\n"
   ]
  },
  {
   "cell_type": "markdown",
   "metadata": {},
   "source": [
    "## Author(s)\n",
    "\n",
    "<h4> Yiwen Li </h4>\n",
    "\n",
    "## Contributions\n",
    "\n",
    "<h4> Tiffany Zhu </h4>\n",
    "\n",
    "## <h3 align=\"center\"> © IBM Corporation 2021. All rights reserved. <h3/>\n"
   ]
  }
 ],
 "metadata": {
  "kernelspec": {
   "display_name": "Python",
   "language": "python",
   "name": "conda-env-python-py"
  },
  "language_info": {
   "codemirror_mode": {
    "name": "ipython",
    "version": 3
   },
   "file_extension": ".py",
   "mimetype": "text/x-python",
   "name": "python",
   "nbconvert_exporter": "python",
   "pygments_lexer": "ipython3",
   "version": "3.7.12"
  }
 },
 "nbformat": 4,
 "nbformat_minor": 4
}
